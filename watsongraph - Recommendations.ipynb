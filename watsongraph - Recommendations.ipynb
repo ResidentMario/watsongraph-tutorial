{
 "cells": [
  {
   "cell_type": "markdown",
   "metadata": {},
   "source": [
    "The `watsongraph` module provides defaults abstractions of its basic `ConceptModel` objects for the benefits of a particular application: recommendation modeling. This is in the form of the `User` and `Item` classes, a walkthrough of which is the focus of this notebook.\n",
    "\n",
    "For a lower-level introduction to concept modeling see the [Concept Modeling notebook](./watsongraph - Concept Modeling.ipynb)."
   ]
  },
  {
   "cell_type": "code",
   "execution_count": 1,
   "metadata": {
    "collapsed": false
   },
   "outputs": [],
   "source": [
    "from watsongraph.item import Item\n",
    "from watsongraph.user import User"
   ]
  },
  {
   "cell_type": "markdown",
   "metadata": {},
   "source": [
    "This is Bob."
   ]
  },
  {
   "cell_type": "code",
   "execution_count": 2,
   "metadata": {
    "collapsed": false
   },
   "outputs": [],
   "source": [
    "Bob = User(user_id='Bob')"
   ]
  },
  {
   "cell_type": "markdown",
   "metadata": {},
   "source": [
    "He's kind of crazy about data technologies. Can't get enough of them, really!"
   ]
  },
  {
   "cell_type": "code",
   "execution_count": 3,
   "metadata": {
    "collapsed": false
   },
   "outputs": [],
   "source": [
    "Bob.input_interests([\"Data science\", \"Machine learning\", \"Big data\", \"Cognitive science\"])"
   ]
  },
  {
   "cell_type": "markdown",
   "metadata": {},
   "source": [
    "Bob hears that IBM has been doing some pretty cool things with IBM Watson!"
   ]
  },
  {
   "cell_type": "code",
   "execution_count": 4,
   "metadata": {
    "collapsed": true
   },
   "outputs": [],
   "source": [
    "Bob.input_interest(\"IBM Watson\")"
   ]
  },
  {
   "cell_type": "markdown",
   "metadata": {},
   "source": [
    "Bob has quite a few interests doesn't he! Let's list them in order of relevance using `interests()`."
   ]
  },
  {
   "cell_type": "code",
   "execution_count": 5,
   "metadata": {
    "collapsed": false,
    "scrolled": false
   },
   "outputs": [
    {
     "data": {
      "text/plain": [
       "[(1.0, 'Watson (computer)'),\n",
       " (1.0, 'Machine learning'),\n",
       " (1.0, 'Data science'),\n",
       " (1.0, 'Cognitive science'),\n",
       " (1.0, 'Big data'),\n",
       " (0.98540753, 'Computer programming'),\n",
       " (0.9337915, 'Engineering'),\n",
       " (0.92557955, 'Rensselaer Polytechnic Institute'),\n",
       " (0.9230226, 'Artificial intelligence'),\n",
       " (0.91526705, 'Supercomputer'),\n",
       " (0.91326, 'IBM'),\n",
       " (0.90725476, 'Oracle Corporation'),\n",
       " (0.8980086, 'Probability distribution'),\n",
       " (0.893338, 'Wikipedia'),\n",
       " (0.89253134, 'MySQL'),\n",
       " (0.8856315, 'Neuroscience'),\n",
       " (0.88045394, 'Normal distribution'),\n",
       " (0.84841204, 'Database'),\n",
       " (0.84179896, 'Index of robotics articles'),\n",
       " (0.8371536, 'Epistemology'),\n",
       " (0.8366102, 'Statistics'),\n",
       " (0.83290774, 'Software as a service'),\n",
       " (0.8234017, 'Bioinformatics'),\n",
       " (0.8223722, 'Index of psychology articles'),\n",
       " (0.81731814, 'Game show'),\n",
       " (0.81545234, 'Noam Chomsky'),\n",
       " (0.8082598, 'Association for Computing Machinery'),\n",
       " (0.8067764, 'Web search engine'),\n",
       " (0.80583435, 'Algorithm'),\n",
       " (0.8037912, 'Cognition'),\n",
       " (0.7920823, 'Semantics'),\n",
       " (0.7916463, 'Probability'),\n",
       " (0.79021126, 'Syntax'),\n",
       " (0.7880096, 'List of linguists'),\n",
       " (0.779158, 'Institute of Electrical and Electronics Engineers'),\n",
       " (0.7681777, 'Java (programming language)'),\n",
       " (0.76272744, 'Perl'),\n",
       " (0.75929236, 'Psychology'),\n",
       " (0.7460879, 'Computing'),\n",
       " (0.7453888, 'Carnegie Mellon University'),\n",
       " (0.7278862, 'Application software'),\n",
       " (0.7267996, 'Game theory'),\n",
       " (0.7235741, 'Linguistics'),\n",
       " (0.7235076, 'Object-oriented programming'),\n",
       " (0.7209754, 'Cloud computing'),\n",
       " (0.71247834, 'List of statistics articles'),\n",
       " (0.69722766, 'Computer science'),\n",
       " (0.6876881, 'Logic'),\n",
       " (0.6873813, 'Eigenvalues and eigenvectors'),\n",
       " (0.6804568, 'Python (programming language)'),\n",
       " (0.67939514, 'Cross-platform'),\n",
       " (0.67921543, 'SQL'),\n",
       " (0.6727461, 'Ruby (programming language)'),\n",
       " (0.6666766, 'XML'),\n",
       " (0.6643771, \"List of minor The Hitchhiker's Guide to the Galaxy characters\"),\n",
       " (0.66360533, 'Application programming interface'),\n",
       " (0.6625294, 'Sun Microsystems'),\n",
       " (0.66163707, 'Social network'),\n",
       " (0.66132975, 'Metadata'),\n",
       " (0.6592036, 'Graph theory'),\n",
       " (0.6553445, 'Hard disk drive'),\n",
       " (0.64754194, 'University of Massachusetts Amherst'),\n",
       " (0.64495015, '.NET Framework'),\n",
       " (0.644903, 'Metaphysics'),\n",
       " (0.6377207, 'Index of philosophy articles (I–Q)'),\n",
       " (0.63646376, 'Immanuel Kant'),\n",
       " (0.6363162, 'Solaris (operating system)'),\n",
       " (0.6351442, 'Hewlett-Packard'),\n",
       " (0.63217145, 'Consciousness'),\n",
       " (0.6314298, 'Matrix (mathematics)'),\n",
       " (0.623089, 'Robotics'),\n",
       " (0.6124636, 'Index of philosophy articles (D–H)'),\n",
       " (0.6049423, 'René Descartes'),\n",
       " (0.5816875, 'Real number'),\n",
       " (0.5500111, 'Function (mathematics)')]"
      ]
     },
     "execution_count": 5,
     "metadata": {},
     "output_type": "execute_result"
    }
   ],
   "source": [
    "Bob.interests()"
   ]
  },
  {
   "cell_type": "markdown",
   "metadata": {},
   "source": [
    "Bob wants to know which of these two events he'd be better off going to: the Data Wrangers meetup or Relay 2015?\n",
    "Ooh! But they're both so good! Hard to decide!\n",
    "\n",
    "A better idea than flipping a coin: let's run both events through our recommendation system.\n",
    "\n",
    "First let's define these two events using the `Item` class."
   ]
  },
  {
   "cell_type": "code",
   "execution_count": 6,
   "metadata": {
    "collapsed": false
   },
   "outputs": [],
   "source": [
    "meetup = Item(\"NYC Data Wranglers: Data Science in Practice\",\n",
    "\"\"\"Join us for a discussion panel with data scientists from Greenhouse, the New York Times, Socure, Via, and YipitData.\n",
    "We'll discuss projects, tools, challenges, and insights from the perspective of data scientists working in the field. We'll also explore ways the practice of data science is growing and evolving.\n",
    "Confirmed Panelists:\n",
    "Anne Bauer started working as a data scientist at the New York Times in June, 2015. Prior to that she was a fellow at Insight Data Science, making the transition to data science from academia. She has a Ph.D. in physics and held research positions in astrophysics and cosmology in Munich and Barcelona before coming to the NYT.\n",
    "David Epstein is a Senior Data Scientist with Socure, where he works on identity verification and fraud detection. Previously, he was a Consulting Economist for the World Bank and a Professor of Political Science at Columbia University.\n",
    "Andrew Zirm received his PhD in Physics (Astrophysics thesis) from Johns Hopkins University. He studied galaxies in the distant universe during several postdocs and before becoming an Insight Fellow in the Summer of 2014 was a professor in Copenhagen, Denmark. Andrew was the first (and still only) Data Scientist at Greenhouse Software, a SaaS recruiting optimization platform based in NYC.\n",
    "Our moderator, Emily Gould, is a Senior Analyst of Data Product and Performance Marketing for American Express.\"\"\")\n",
    "relay = Item(\"Relay 2015\",\n",
    "\"\"\"Join for Relay 2015, a FREE, exclusive event where IBM Bluemix will discuss how leading companies around the world are taking advantage of the cloud and how IBM is helping them to be successful. \n",
    "Discover the new technology and best practices that companies are employing to move faster and focus on innovation that truly matters to their customers\n",
    "Empower your company to leverage your unique skills, systems and data in new cloud and digital models\n",
    "Michael's Session (below)\n",
    "New Data Sources, New Value. Watson, Weather and Beyond\n",
    "This discussion led by Michael Karasick delves into how data from weather, sensors, text and images can be used to change the way apps interact with users and machines.\"\"\")"
   ]
  },
  {
   "cell_type": "code",
   "execution_count": null,
   "metadata": {
    "collapsed": true
   },
   "outputs": [],
   "source": []
  },
  {
   "cell_type": "markdown",
   "metadata": {},
   "source": [
    "To see the resulting `(relevance, concept)` tuples use `relevancies()`. This works the same way that `interests()` works for `User` objects!"
   ]
  },
  {
   "cell_type": "code",
   "execution_count": 7,
   "metadata": {
    "collapsed": false,
    "scrolled": false
   },
   "outputs": [
    {
     "data": {
      "text/plain": [
       "[(0.86913383, 'Data science'),\n",
       " (0.79944324, 'Astrophysics'),\n",
       " (0.76505643, 'Johns Hopkins University'),\n",
       " (0.7612101, 'Professor'),\n",
       " (0.75725406, 'Postdoctoral researcher'),\n",
       " (0.75622356, 'Fellow'),\n",
       " (0.74102974, 'Columbia University'),\n",
       " (0.7395468, 'Doctor of Philosophy'),\n",
       " (0.72627586, 'Cosmology'),\n",
       " (0.72122234, 'Physics'),\n",
       " (0.7158674, 'Political science'),\n",
       " (0.6833801, 'Research'),\n",
       " (0.6762044, 'Academia'),\n",
       " (0.67036015, 'Thesis'),\n",
       " (0.66710407, 'Economist'),\n",
       " (0.6600149, 'Marketing'),\n",
       " (0.62976503, 'Science'),\n",
       " (0.58912677, 'American Express'),\n",
       " (0.5886991, 'Galaxy'),\n",
       " (0.5869525, 'World Bank'),\n",
       " (0.5785933, 'Universe'),\n",
       " (0.5656817, 'Software as a service'),\n",
       " (0.5530766, 'Emily Gould'),\n",
       " (0.5504416, 'Copenhagen'),\n",
       " (0.53507394, 'Advice and consent'),\n",
       " (0.524541, 'Fraud'),\n",
       " (0.516044, 'Munich'),\n",
       " (0.4605503, 'Barcelona'),\n",
       " (0.4463658, 'The New York Times')]"
      ]
     },
     "execution_count": 7,
     "metadata": {},
     "output_type": "execute_result"
    }
   ],
   "source": [
    "meetup.relevancies()"
   ]
  },
  {
   "cell_type": "markdown",
   "metadata": {},
   "source": [
    "Now let's use our model of what Bob likes to compare the `meetup` and `relay` events and see which one we think he would like most!"
   ]
  },
  {
   "cell_type": "code",
   "execution_count": 8,
   "metadata": {
    "collapsed": false,
    "scrolled": true
   },
   "outputs": [
    {
     "data": {
      "text/plain": [
       "1.633861635"
      ]
     },
     "execution_count": 8,
     "metadata": {},
     "output_type": "execute_result"
    }
   ],
   "source": [
    "Bob.interest_in(meetup)"
   ]
  },
  {
   "cell_type": "code",
   "execution_count": 9,
   "metadata": {
    "collapsed": false
   },
   "outputs": [
    {
     "data": {
      "text/plain": [
       "1.54593405"
      ]
     },
     "execution_count": 9,
     "metadata": {},
     "output_type": "execute_result"
    }
   ],
   "source": [
    "Bob.interest_in(relay)"
   ]
  },
  {
   "cell_type": "markdown",
   "metadata": {},
   "source": [
    "It's a close tie, but `meetup` wins it!\n",
    "\n",
    "Still, he's clearly interested in both. Let's tell our model that fact, to help improve future results."
   ]
  },
  {
   "cell_type": "code",
   "execution_count": 10,
   "metadata": {
    "collapsed": false
   },
   "outputs": [],
   "source": [
    "Bob.express_interest(meetup)\n",
    "Bob.express_interest(relay)"
   ]
  },
  {
   "cell_type": "markdown",
   "metadata": {},
   "source": [
    "If on the contrary Bob wanted to express *disinterest* in an event we would, logically, need `Bob.express_disinterest()`.\n",
    "\n",
    "How do Bob's life choices change our perception of him?\n",
    "\n",
    "*Note*: The displayed error is a limitation of [floating point arithmetic](https://docs.python.org/3/tutorial/floatingpoint.html)."
   ]
  },
  {
   "cell_type": "code",
   "execution_count": 11,
   "metadata": {
    "collapsed": false,
    "scrolled": false
   },
   "outputs": [
    {
     "data": {
      "text/plain": [
       "[(0.9, 'Data science'),\n",
       " (0.8631579599999999, 'Cloud computing'),\n",
       " (0.8462260470000001, 'IBM'),\n",
       " (0.81, 'Watson (computer)'),\n",
       " (0.81, 'Machine learning'),\n",
       " (0.81, 'Cognitive science'),\n",
       " (0.81, 'Big data'),\n",
       " (0.7981800993000001, 'Computer programming'),\n",
       " (0.7744852, 'Data'),\n",
       " (0.77127916, 'Innovation'),\n",
       " (0.7563711150000001, 'Engineering'),\n",
       " (0.7497194355000001, 'Rensselaer Polytechnic Institute'),\n",
       " (0.7476483060000001, 'Artificial intelligence'),\n",
       " (0.7413663105, 'Supercomputer'),\n",
       " (0.7375267, 'Best practice'),\n",
       " (0.7348763556000001, 'Oracle Corporation'),\n",
       " (0.7273869660000001, 'Probability distribution'),\n",
       " (0.7236037799999999, 'Wikipedia'),\n",
       " (0.7229503854, 'MySQL'),\n",
       " (0.719498916, 'Astrophysics'),\n",
       " (0.717361515, 'Neuroscience'),\n",
       " (0.7162444, 'Weather'),\n",
       " (0.7157082, 'Customer'),\n",
       " (0.7155265, 'Technology'),\n",
       " (0.7131676914, 'Normal distribution'),\n",
       " (0.70194566, 'Sensor'),\n",
       " (0.688550787, 'Johns Hopkins University'),\n",
       " (0.6872137524, 'Database'),\n",
       " (0.6859241, 'Digital data'),\n",
       " (0.6850890900000001, 'Professor'),\n",
       " (0.6830872668, 'Software as a service'),\n",
       " (0.6818571576, 'Index of robotics articles'),\n",
       " (0.681528654, 'Postdoctoral researcher'),\n",
       " (0.680601204, 'Fellow'),\n",
       " (0.6780944160000001, 'Epistemology'),\n",
       " (0.677654262, 'Statistics'),\n",
       " (0.6673431, 'Company'),\n",
       " (0.6669553770000001, 'Bioinformatics'),\n",
       " (0.666926766, 'Columbia University'),\n",
       " (0.666121482, 'Index of psychology articles'),\n",
       " (0.66559212, 'Doctor of Philosophy'),\n",
       " (0.6620276934000001, 'Game show'),\n",
       " (0.6605163954, 'Noam Chomsky'),\n",
       " (0.654690438, 'Association for Computing Machinery'),\n",
       " (0.653648274, 'Cosmology'),\n",
       " (0.6534888839999999, 'Web search engine'),\n",
       " (0.6527258235000001, 'Algorithm'),\n",
       " (0.651070872, 'Cognition'),\n",
       " (0.649100106, 'Physics'),\n",
       " (0.6442806600000001, 'Political science'),\n",
       " (0.641586663, 'Semantics'),\n",
       " (0.641233503, 'Probability'),\n",
       " (0.6400711206, 'Syntax'),\n",
       " (0.638287776, 'List of linguists'),\n",
       " (0.6311179800000001, 'Institute of Electrical and Electronics Engineers'),\n",
       " (0.622223937, 'Java (programming language)'),\n",
       " (0.618749, 'Protein–protein interaction'),\n",
       " (0.6178092264000001, 'Perl'),\n",
       " (0.6150420900000001, 'Research'),\n",
       " (0.6150268116000001, 'Psychology'),\n",
       " (0.60858396, 'Academia'),\n",
       " (0.6043311990000001, 'Computing'),\n",
       " (0.603764928, 'Carnegie Mellon University'),\n",
       " (0.603324135, 'Thesis'),\n",
       " (0.6003936630000001, 'Economist'),\n",
       " (0.59401341, 'Marketing'),\n",
       " (0.589587822, 'Application software'),\n",
       " (0.5887076760000001, 'Game theory'),\n",
       " (0.5860950210000001, 'Linguistics'),\n",
       " (0.5860411560000001, 'Object-oriented programming'),\n",
       " (0.5771074554, 'List of statistics articles'),\n",
       " (0.5667885269999999, 'Science'),\n",
       " (0.5647544046000001, 'Computer science'),\n",
       " (0.557027361, 'Logic'),\n",
       " (0.5567788530000001, 'Eigenvalues and eigenvectors'),\n",
       " (0.551170008, 'Python (programming language)'),\n",
       " (0.5503100634, 'Cross-platform'),\n",
       " (0.5501644983, 'SQL'),\n",
       " (0.544924341, 'Ruby (programming language)'),\n",
       " (0.540008046, 'XML'),\n",
       " (0.5381454510000001,\n",
       "  \"List of minor The Hitchhiker's Guide to the Galaxy characters\"),\n",
       " (0.5375203173, 'Application programming interface'),\n",
       " (0.536648814, 'Sun Microsystems'),\n",
       " (0.5359260267000001, 'Social network'),\n",
       " (0.5356770975, 'Metadata'),\n",
       " (0.533954916, 'Graph theory'),\n",
       " (0.5308290449999999, 'Hard disk drive'),\n",
       " (0.530214093, 'American Express'),\n",
       " (0.5298291900000001, 'Galaxy'),\n",
       " (0.52825725, 'World Bank'),\n",
       " (0.5245089714000001, 'University of Massachusetts Amherst'),\n",
       " (0.5224096215, '.NET Framework'),\n",
       " (0.52237143, 'Metaphysics'),\n",
       " (0.52073397, 'Universe'),\n",
       " (0.5165537670000001, 'Index of philosophy articles (I–Q)'),\n",
       " (0.5155356456000001, 'Immanuel Kant'),\n",
       " (0.515416122, 'Solaris (operating system)'),\n",
       " (0.5144668020000001, 'Hewlett-Packard'),\n",
       " (0.5120588745, 'Consciousness'),\n",
       " (0.5114581380000001, 'Matrix (mathematics)'),\n",
       " (0.50470209, 'Robotics'),\n",
       " (0.49776894000000005, 'Emily Gould'),\n",
       " (0.49609551600000007, 'Index of philosophy articles (D–H)'),\n",
       " (0.49539743999999997, 'Copenhagen'),\n",
       " (0.4900032630000001, 'René Descartes'),\n",
       " (0.481566546, 'Advice and consent'),\n",
       " (0.47208690000000003, 'Fraud'),\n",
       " (0.47116687500000004, 'Real number'),\n",
       " (0.46443959999999995, 'Munich'),\n",
       " (0.445508991, 'Function (mathematics)'),\n",
       " (0.41449527, 'Barcelona'),\n",
       " (0.40172922, 'The New York Times')]"
      ]
     },
     "execution_count": 11,
     "metadata": {},
     "output_type": "execute_result"
    }
   ],
   "source": [
    "Bob.interests()"
   ]
  },
  {
   "cell_type": "markdown",
   "metadata": {},
   "source": [
    "Whenever we have Bob like or dislike an event we add that event to his list of exceptions, so as not to bore him by telling him about the same thing multiples times in a row."
   ]
  },
  {
   "cell_type": "code",
   "execution_count": 12,
   "metadata": {
    "collapsed": false
   },
   "outputs": [
    {
     "data": {
      "text/plain": [
       "['NYC Data Wranglers: Data Science in Practice', 'Relay 2015']"
      ]
     },
     "execution_count": 12,
     "metadata": {},
     "output_type": "execute_result"
    }
   ],
   "source": [
    "Bob.exceptions"
   ]
  },
  {
   "cell_type": "markdown",
   "metadata": {},
   "source": [
    "We can get the best-fitting `Item` out of a list of them using `get_best_item()`.\n",
    "\n",
    "But this operation accounts for exceptions, so let's clear that first before trying it out."
   ]
  },
  {
   "cell_type": "code",
   "execution_count": 13,
   "metadata": {
    "collapsed": false
   },
   "outputs": [
    {
     "data": {
      "text/plain": [
       "'Relay 2015'"
      ]
     },
     "execution_count": 13,
     "metadata": {},
     "output_type": "execute_result"
    }
   ],
   "source": [
    "Bob.exceptions = []\n",
    "best_fit = Bob.get_best_item([meetup, relay])\n",
    "best_fit.name"
   ]
  },
  {
   "cell_type": "markdown",
   "metadata": {},
   "source": [
    "Note that fetching a recommendation doesn't add it to our list of exceptions: only expressing interest or disinterest (with `Bob.express_interest()` or `Bob.express_disinterest()`, as above) does."
   ]
  },
  {
   "cell_type": "code",
   "execution_count": 14,
   "metadata": {
    "collapsed": false
   },
   "outputs": [
    {
     "data": {
      "text/plain": [
       "[]"
      ]
     },
     "execution_count": 14,
     "metadata": {},
     "output_type": "execute_result"
    }
   ],
   "source": [
    "Bob.exceptions"
   ]
  },
  {
   "cell_type": "markdown",
   "metadata": {},
   "source": [
    "Let's peek under the hood. `Item` doesn't pull its recommendations out of thin air: it calls the static `model()` method, which in turn calls on the IBM Watson Cognitive Insights API, to tell it what it's all about. You can use this method too."
   ]
  },
  {
   "cell_type": "code",
   "execution_count": 15,
   "metadata": {
    "collapsed": false,
    "scrolled": true
   },
   "outputs": [
    {
     "data": {
      "text/plain": [
       "[['IBM'],\n",
       " ['Cloud computing', 'IBM'],\n",
       " ['Apple Inc.'],\n",
       " ['Programming language', 'Python (programming language)']]"
      ]
     },
     "execution_count": 15,
     "metadata": {},
     "output_type": "execute_result"
    }
   ],
   "source": [
    "from watsongraph.conceptmodel import model\n",
    "[model('IBM').concepts(),\n",
    " model('Join for Relay 2015, a FREE, exclusive event where IBM Bluemix will discuss how leading companies around the world are taking advantage of the cloud and how IBM is helping them to be successful.').concepts(),\n",
    " model('Apple Inc.').concepts(),\n",
    " model('Python is a very nice programming language that is very useful for many computational tasks.').concepts()]"
   ]
  },
  {
   "cell_type": "markdown",
   "metadata": {},
   "source": [
    "One last thing worth mentioning: the watson-graph library provides userfile saving and loading via JSON.\n",
    "\n",
    "These are the `save_user()`, `update_user_credentials()`, `load_user()`, and `delete_user()` methods.\n",
    "\n",
    "All of these methods are object methods (e.g. `Bob.load_user()`, not `Bob = load_user()`).\n",
    "\n",
    "\n",
    "All of these methods take the same one optional parameter, `filename`, the name of the storage file. `accounts.json` is used as the default."
   ]
  },
  {
   "cell_type": "code",
   "execution_count": 16,
   "metadata": {
    "collapsed": false
   },
   "outputs": [
    {
     "data": {
      "text/plain": [
       "<watsongraph.user.User at 0x6c2e320>"
      ]
     },
     "execution_count": 16,
     "metadata": {},
     "output_type": "execute_result"
    }
   ],
   "source": [
    "Bob.save_user()\n",
    "Bob.load_user()\n",
    "Bob.user_id = \"Bobette\"\n",
    "Bob.update_user_credentials()\n",
    "Bob"
   ]
  },
  {
   "cell_type": "markdown",
   "metadata": {},
   "source": [
    "That's all folks!\n",
    "\n",
    "For a lower-level introduction to concept modeling see the [Concept Modeling notebook](./watsongraph - Concept Modeling.ipynb)."
   ]
  }
 ],
 "metadata": {
  "kernelspec": {
   "display_name": "Python 3",
   "language": "python",
   "name": "python3"
  },
  "language_info": {
   "codemirror_mode": {
    "name": "ipython",
    "version": 3
   },
   "file_extension": ".py",
   "mimetype": "text/x-python",
   "name": "python",
   "nbconvert_exporter": "python",
   "pygments_lexer": "ipython3",
   "version": "3.5.1"
  }
 },
 "nbformat": 4,
 "nbformat_minor": 0
}
