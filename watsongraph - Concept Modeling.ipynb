{
 "cells": [
  {
   "cell_type": "markdown",
   "metadata": {},
   "source": [
    "The [Concept Insights API](http://www.ibm.com/smarterplanet/us/en/ibmwatson/developercloud/concept-insights.html) is an IBM Bluemix -hosted service which exposes the powerful conceptual association and mapping technology implicit in the [IBM Watson](http://en.wikipedia.org/wiki/IBM Watson) supercomputer to a wider developer audience.\n",
    "\n",
    "The `watsongraph` module is a high-level abstraction of this service. At its core is the `ConceptModel`, a Concept Insights -queried partial local reconstruction of the `wikipedia/en-20120601` cognitive graph, a machine-learned mapping of Wikipedia articles to concepts to nodes to model specifically constructed by IBM for Concept Insights purposes. This allows for an interesting alternative to the usual link-based method of exploring the topical connections between Wikipedia articles, one based not on \"dumb\" links scattered, but on \"smart\" learned relationships observed by IBM Watson.\n",
    "\n",
    "This notebook is a basic demonstration of the module's capacities. It focuses in particular on the methods provided by the `ConceptModel` object. For a demonstration of this module's application as a recommendation engine see the [Recommendations notebook](./watsongraph - Recommendations.ipynb). The sequel to this notebook is the [Advanced Concept Modeling notebook](./watsongraph - Advanced Concept Modeling.ipynb): you should read this one first."
   ]
  },
  {
   "cell_type": "code",
   "execution_count": 7,
   "metadata": {
    "collapsed": true
   },
   "outputs": [],
   "source": [
    "from watsongraph.conceptmodel import ConceptModel\n",
    "import requests\n",
    "import random\n",
    "import time"
   ]
  },
  {
   "cell_type": "markdown",
   "metadata": {},
   "source": [
    "## Instantiation\n",
    "\n",
    "To create a new `ConceptModel` object we pass a list of concepts to be initialized.\n",
    "\n",
    "We can use the `concepts()` method to check up on how many concepts we have inserted so far."
   ]
  },
  {
   "cell_type": "code",
   "execution_count": 8,
   "metadata": {
    "collapsed": false
   },
   "outputs": [
    {
     "data": {
      "text/plain": [
       "['IBM']"
      ]
     },
     "execution_count": 8,
     "metadata": {},
     "output_type": "execute_result"
    }
   ],
   "source": [
    "ibm = ConceptModel(['IBM'])\n",
    "ibm.concepts()"
   ]
  },
  {
   "cell_type": "markdown",
   "metadata": {},
   "source": [
    "At this point `ibm` is a `ConceptModel` with a single node in it: `IBM`. Now we shall extrapolate forward using `explode()`: this will run every concept in the model (in this case, just the one) through the `Concept Insights` API and attach the resultant graphs to our existing model."
   ]
  },
  {
   "cell_type": "code",
   "execution_count": 9,
   "metadata": {
    "collapsed": false
   },
   "outputs": [
    {
     "data": {
      "text/plain": [
       "37"
      ]
     },
     "execution_count": 9,
     "metadata": {},
     "output_type": "execute_result"
    }
   ],
   "source": [
    "ibm.explode()\n",
    "len(ibm.concepts())"
   ]
  },
  {
   "cell_type": "markdown",
   "metadata": {},
   "source": [
    "Use `edges()` to list relations amongst concepts in order of relevance."
   ]
  },
  {
   "cell_type": "code",
   "execution_count": 10,
   "metadata": {
    "collapsed": false
   },
   "outputs": [
    {
     "data": {
      "text/plain": [
       "[(0.89564085, 'IBM', 'Digital Equipment Corporation'),\n",
       " (0.8213564, 'IBM', 'X86'),\n",
       " (0.8081631, 'IBM', 'Fortran'),\n",
       " (0.80571836, 'IBM', 'Solaris (operating system)'),\n",
       " (0.803906, 'IBM', 'SQL'),\n",
       " (0.79933375, 'Supercomputer', 'IBM'),\n",
       " (0.79717726, 'IBM', 'X86-64'),\n",
       " (0.79349726, 'Advanced Micro Devices', 'IBM'),\n",
       " (0.780642, 'IBM', 'Sun Microsystems'),\n",
       " (0.7744718, 'IBM', 'Oracle Corporation'),\n",
       " (0.7431917, 'IBM', 'Operating system'),\n",
       " (0.7338766, 'IBM', 'Microprocessor'),\n",
       " (0.7300315, 'IBM', 'Unix'),\n",
       " (0.6878544, 'IBM', 'Compiler'),\n",
       " (0.6814177, 'IBM', 'Cloud computing'),\n",
       " (0.65513045, 'IBM', 'Berkeley Software Distribution'),\n",
       " (0.6541496, 'IBM', 'Intel'),\n",
       " (0.6436416, 'IBM', 'ARM architecture'),\n",
       " (0.62924486, 'Server (computing)', 'IBM'),\n",
       " (0.6270959, 'IBM', 'Hewlett-Packard'),\n",
       " (0.62568736, 'IBM', 'FreeBSD'),\n",
       " (0.6176665, 'IBM', 'Central processing unit'),\n",
       " (0.60758543, 'IBM', 'X Window System'),\n",
       " (0.60449404, 'Java (programming language)', 'IBM'),\n",
       " (0.59871125, 'IBM', 'MySQL'),\n",
       " (0.58770674, 'Application programming interface', 'IBM'),\n",
       " (0.5854343, 'IBM', 'XML'),\n",
       " (0.5745319, 'IBM', 'Library (computing)'),\n",
       " (0.57220286, 'IBM', '.NET Framework'),\n",
       " (0.56133187, 'IBM', 'Unix-like'),\n",
       " (0.5598469, 'IBM', 'Hard disk drive'),\n",
       " (0.5565874, 'IBM', 'Object-oriented programming'),\n",
       " (0.5351206, 'IBM', 'Linux'),\n",
       " (0.5316219, 'IBM', 'C (programming language)'),\n",
       " (0.5241717, 'IBM', 'Programming language'),\n",
       " (0.50487167, 'IBM', 'Graphical user interface')]"
      ]
     },
     "execution_count": 10,
     "metadata": {},
     "output_type": "execute_result"
    }
   ],
   "source": [
    "ibm.edges()"
   ]
  },
  {
   "cell_type": "markdown",
   "metadata": {},
   "source": [
    "## Expansion\n",
    "\n",
    "The Concept Insights API returns its results in order of their relevance to the one at hand, but between the size of Wikipedia and the depth IBM Watson's own cognitive understanding this can result in unmanageably thousands of articles. To keep the information firehose at a manageable level the Concept Insights service two parameters which are passed through by `watsongraph` graph-expansion methods:\n",
    "* `limit`: The maximum number of concepts to be returned. Can be any `int`. Throttled to 50 by default.\n",
    "* `level`: The popularity threshold of the articles that will be returned, on a 0 (highest) to 5 (lowest) scale. Throttled to 0 by default.\n",
    "\n",
    "The basic `explode()` command is a level-0 query. What happens when we play with the levels a bit?"
   ]
  },
  {
   "cell_type": "code",
   "execution_count": 11,
   "metadata": {
    "collapsed": false
   },
   "outputs": [
    {
     "data": {
      "text/plain": [
       "555"
      ]
     },
     "execution_count": 11,
     "metadata": {},
     "output_type": "execute_result"
    }
   ],
   "source": [
    "microsoft = ConceptModel(['Microsoft'])\n",
    "microsoft.explode(limit=2000, level=1)\n",
    "len(microsoft.concepts())"
   ]
  },
  {
   "cell_type": "code",
   "execution_count": 12,
   "metadata": {
    "collapsed": false
   },
   "outputs": [
    {
     "data": {
      "text/plain": [
       "2000"
      ]
     },
     "execution_count": 12,
     "metadata": {},
     "output_type": "execute_result"
    }
   ],
   "source": [
    "apple = ConceptModel(['Apple Inc.'])\n",
    "apple.explode(limit=2000, level=5)\n",
    "len(apple.concepts())"
   ]
  },
  {
   "cell_type": "markdown",
   "metadata": {},
   "source": [
    "The `microsoft` query took about 3 seconds to run, the `apple` query a little more than twice that. Notice that `apple` hit our `limit`: letting such a full-depth full-breadth command run in full would take several minutes and generate tens of thousands of results. Level-5 queries in general are mostly academic: as the following introspection shows they mostly generate a lot of junk."
   ]
  },
  {
   "cell_type": "code",
   "execution_count": 13,
   "metadata": {
    "collapsed": false
   },
   "outputs": [
    {
     "data": {
      "text/plain": [
       "[(0.99995303, 'Apple Inc.', 'Apple Corporation'),\n",
       " (0.999906, 'Apple Computers Incorporated', 'Apple Inc.'),\n",
       " (0.99985904, \"Apple's\", 'Apple Inc.'),\n",
       " (0.99981207, 'Apple Inc.', 'Apple Inc. Slogans'),\n",
       " (0.9997651, 'Apple Inc.', 'Spruce Text List'),\n",
       " (0.99971807, 'Apple, inc.', 'Apple Inc.'),\n",
       " (0.9996711, 'Apple Inc.', 'Big fruit'),\n",
       " (0.9995853, 'Apple Inc.', 'FireWave'),\n",
       " (0.9995427, 'AppleShare IP Migration', 'Apple Inc.'),\n",
       " (0.99950033, 'Apple Inc.', 'QTSS Publisher'),\n",
       " (0.9994586, 'Apple Inc.', 'Nightmare 6'),\n",
       " (0.99941695, 'Apple Inc.', 'Machspeed'),\n",
       " (0.9993754, 'Apple Inc.', 'Apple Pugetsound Program Library Exchange'),\n",
       " (0.9993339, 'The Sheffield Institute for the Recording Arts', 'Apple Inc.'),\n",
       " (0.99929255, 'Nidomain', 'Apple Inc.'),\n",
       " (0.9992513, '/// Cheers!', 'Apple Inc.'),\n",
       " (0.99921036, 'Val Golding', 'Apple Inc.'),\n",
       " (0.9991697, 'Apple Inc.', 'William Martens'),\n",
       " (0.9991291, 'Apple Inc.', 'Cards (iOS)'),\n",
       " (0.9990886, 'Power Macintosh (second generation)', 'Apple Inc.')]"
      ]
     },
     "execution_count": 13,
     "metadata": {},
     "output_type": "execute_result"
    }
   ],
   "source": [
    "apple.edges()[:20]"
   ]
  },
  {
   "cell_type": "markdown",
   "metadata": {},
   "source": [
    "`Apple Corporation`, the top result, is just a redirect to `Apple Inc`, as are several other top results. The `Sheffield Institute` is a minimally relevant article dominated by \"Apple certification\". Compare these outcomes to the much better `microsoft` ones:"
   ]
  },
  {
   "cell_type": "code",
   "execution_count": 14,
   "metadata": {
    "collapsed": false
   },
   "outputs": [
    {
     "data": {
      "text/plain": [
       "[(0.996133, 'Microsoft', 'Windows Live'),\n",
       " (0.9779484, '.NET Framework version history', 'Microsoft'),\n",
       " (0.97519916, 'Microsoft', 'Microsoft Office 2007'),\n",
       " (0.97378683, 'Windows Live Messenger', 'Microsoft'),\n",
       " (0.9682485, 'Microsoft', 'List of Microsoft Windows components'),\n",
       " (0.96686125, 'Windows Server 2008', 'Microsoft'),\n",
       " (0.9649106, 'Microsoft', 'Windows Presentation Foundation'),\n",
       " (0.96461135, 'Microsoft Exchange Server', 'Microsoft'),\n",
       " (0.96434224, 'Microsoft', 'Windows NT 4.0'),\n",
       " (0.9642824, 'Microsoft', 'Microsoft Visual Studio'),\n",
       " (0.9629393, 'Hotmail', 'Microsoft'),\n",
       " (0.9623143, 'Windows Server 2003', 'Microsoft'),\n",
       " (0.9609486, 'Features new to Windows Vista', 'Microsoft'),\n",
       " (0.9600303, 'Microsoft SharePoint', 'Microsoft'),\n",
       " (0.95917296, 'Windows 8', 'Microsoft'),\n",
       " (0.9589959, 'Active Directory', 'Microsoft'),\n",
       " (0.957729, 'Microsoft', 'Comparison of Microsoft Windows versions'),\n",
       " (0.957582, 'List of features removed in Windows Vista', 'Microsoft'),\n",
       " (0.9536003, 'Microsoft', 'Windows Explorer'),\n",
       " (0.9527554, 'Microsoft', 'Internet Information Services')]"
      ]
     },
     "execution_count": 14,
     "metadata": {},
     "output_type": "execute_result"
    }
   ],
   "source": [
    "microsoft.edges()[:20]"
   ]
  },
  {
   "cell_type": "markdown",
   "metadata": {},
   "source": [
    "So far we've stuck to `explode()`; let's now explore the other two graph expansion methodologies provided by `watsongraph`.\n",
    "\n",
    "First up, `augment()`. Although we started with `explode()`, `augment()` is actually the simplest of the three. It simply takes the concept you give it, runs it by the API, and merges the resulting graph into the existing one. That concept need not already be present in the graph!\n",
    "\n",
    "Again, remember that `augment()` takes the same `limit` and `level` parameters as `explode()`, with the same defaults (50 and 0)."
   ]
  },
  {
   "cell_type": "code",
   "execution_count": 15,
   "metadata": {
    "collapsed": false
   },
   "outputs": [
    {
     "data": {
      "text/plain": [
       "62"
      ]
     },
     "execution_count": 15,
     "metadata": {},
     "output_type": "execute_result"
    }
   ],
   "source": [
    "ibm.augment('Watson (computer)')\n",
    "len(ibm.concepts())"
   ]
  },
  {
   "cell_type": "markdown",
   "metadata": {},
   "source": [
    "Since `Watson (computer)` is a concept that's pretty closely related to `IBM`, we expect their nodes to overlap quite a bit.\n",
    "\n",
    "Let's see by how much with an application of the `neighborhood()` command, which lists every concept directly connected to the chosen one."
   ]
  },
  {
   "cell_type": "code",
   "execution_count": 16,
   "metadata": {
    "collapsed": false
   },
   "outputs": [
    {
     "data": {
      "text/plain": [
       "[(1, 'Watson (computer)'),\n",
       " (0.92557955, 'Rensselaer Polytechnic Institute'),\n",
       " (0.9230226, 'Artificial intelligence'),\n",
       " (0.91526705, 'Supercomputer'),\n",
       " (0.91326, 'IBM'),\n",
       " (0.893338, 'Wikipedia'),\n",
       " (0.84179896, 'Index of robotics articles'),\n",
       " (0.81731814, 'Game show'),\n",
       " (0.8082598, 'Association for Computing Machinery'),\n",
       " (0.8067764, 'Web search engine'),\n",
       " (0.8037912, 'Cognition'),\n",
       " (0.7920823, 'Semantics'),\n",
       " (0.779158, 'Institute of Electrical and Electronics Engineers'),\n",
       " (0.7453888, 'Carnegie Mellon University'),\n",
       " (0.7209754, 'Cloud computing'),\n",
       " (0.67921543, 'SQL'),\n",
       " (0.6643771, \"List of minor The Hitchhiker's Guide to the Galaxy characters\"),\n",
       " (0.66132975, 'Metadata'),\n",
       " (0.6553445, 'Hard disk drive'),\n",
       " (0.64754194, 'University of Massachusetts Amherst'),\n",
       " (0.63217145, 'Consciousness'),\n",
       " (0.61441857, 'Advanced Micro Devices'),\n",
       " (0.61389816, 'Sun Microsystems'),\n",
       " (0.5969063, 'Fortran'),\n",
       " (0.5954265, \"Places in The Hitchhiker's Guide to the Galaxy\"),\n",
       " (0.5881132, 'Database'),\n",
       " (0.580005, 'XML'),\n",
       " (0.578477, 'Java (programming language)'),\n",
       " (0.57775605, 'Digital Equipment Corporation'),\n",
       " (0.5653138, 'Computer science'),\n",
       " (0.5627265, 'X86-64'),\n",
       " (0.55450505, 'List of members of the National Academy of Engineering'),\n",
       " (0.54254705, 'List of game show hosts'),\n",
       " (0.542339, 'Solaris (operating system)'),\n",
       " (0.53693724, 'Oracle Corporation'),\n",
       " (0.53221166, 'Robotics'),\n",
       " (0.5241967, 'X86'),\n",
       " (0.5047094, '2011 in the United States'),\n",
       " (0.5042808, 'Computer program'),\n",
       " (0.501324, 'Syntax')]"
      ]
     },
     "execution_count": 16,
     "metadata": {},
     "output_type": "execute_result"
    }
   ],
   "source": [
    "ibm.neighborhood('Watson (computer)')"
   ]
  },
  {
   "cell_type": "code",
   "execution_count": 17,
   "metadata": {
    "collapsed": false
   },
   "outputs": [
    {
     "data": {
      "text/plain": [
       "['2011 in the United States',\n",
       " 'Artificial intelligence',\n",
       " 'Association for Computing Machinery',\n",
       " 'Carnegie Mellon University',\n",
       " 'Cognition',\n",
       " 'Computer program',\n",
       " 'Computer science',\n",
       " 'Consciousness',\n",
       " 'Database',\n",
       " 'Game show',\n",
       " 'Index of robotics articles',\n",
       " 'Institute of Electrical and Electronics Engineers',\n",
       " 'List of game show hosts',\n",
       " 'List of members of the National Academy of Engineering',\n",
       " \"List of minor The Hitchhiker's Guide to the Galaxy characters\",\n",
       " 'Metadata',\n",
       " \"Places in The Hitchhiker's Guide to the Galaxy\",\n",
       " 'Rensselaer Polytechnic Institute',\n",
       " 'Robotics',\n",
       " 'Semantics',\n",
       " 'Syntax',\n",
       " 'University of Massachusetts Amherst',\n",
       " 'Web search engine',\n",
       " 'Wikipedia']"
      ]
     },
     "execution_count": 17,
     "metadata": {},
     "output_type": "execute_result"
    }
   ],
   "source": [
    "ibm_n = [t[1] for t in ibm.neighborhood('IBM')]\n",
    "watson_n = [t[1] for t in ibm.neighborhood('Watson (computer)')]\n",
    "watsonian_only_club = [c for c in ibm.concepts() if c in watson_n and c not in ibm_n]\n",
    "watsonian_only_club"
   ]
  },
  {
   "cell_type": "markdown",
   "metadata": {},
   "source": [
    "Next let's try `expand()`. Expand is like a more focused `explode()`: it expands every concept in the model which has fewer than `n` edges, where `n` is an optional argument which defaults to 1. To summarize:\n",
    "\n",
    "* `augment()` can net us more results much more quickly, but it only works on a single node.\n",
    "* `expand()` works on as many as you let it.\n",
    "* `explode()` works on *all* of them.\n",
    "\n",
    "Again, the same `level` and `limit` parameters are present in all three of these methods."
   ]
  },
  {
   "cell_type": "code",
   "execution_count": 18,
   "metadata": {
    "collapsed": false
   },
   "outputs": [
    {
     "data": {
      "text/plain": [
       "517"
      ]
     },
     "execution_count": 18,
     "metadata": {},
     "output_type": "execute_result"
    }
   ],
   "source": [
    "ibm.expand()\n",
    "len(ibm.concepts())"
   ]
  },
  {
   "cell_type": "markdown",
   "metadata": {},
   "source": [
    "Of course at this point we are expanding concepts like \"Wikipedia\" and \"Game show\". So our results start to get pretty far away from where we started!"
   ]
  },
  {
   "cell_type": "code",
   "execution_count": 19,
   "metadata": {
    "collapsed": false
   },
   "outputs": [
    {
     "data": {
      "text/plain": [
       "[(0.9824447,\n",
       "  \"Places in The Hitchhiker's Guide to the Galaxy\",\n",
       "  \"List of minor The Hitchhiker's Guide to the Galaxy characters\"),\n",
       " (0.9777767, 'C Sharp (programming language)', '.NET Framework'),\n",
       " (0.97736937, 'Intel', 'X86-64'),\n",
       " (0.9750814, 'List of linguists', 'Syntax'),\n",
       " (0.97479653, 'MySQL', 'PHP'),\n",
       " (0.9732626, 'Troy, New York', 'Rensselaer Polytechnic Institute'),\n",
       " (0.971852, 'Database', 'SQL'),\n",
       " (0.96971184, 'Advanced Micro Devices', 'Intel'),\n",
       " (0.96823686, 'Berkeley Software Distribution', 'FreeBSD'),\n",
       " (0.9644456, 'List of linguists', 'Semantics'),\n",
       " (0.9643342, 'MySQL', 'SQL'),\n",
       " (0.96209294, 'Unix-like', 'Berkeley Software Distribution'),\n",
       " (0.9582793, 'Unix-like', 'X Window System'),\n",
       " (0.95488656, 'Central processing unit', 'X86-64'),\n",
       " (0.95279807, 'Object-oriented programming', 'Ruby (programming language)'),\n",
       " (0.95201236, 'Robotics', 'Index of robotics articles'),\n",
       " (0.95163786, 'Unix', 'Berkeley Software Distribution'),\n",
       " (0.95121133, 'Unix-like', 'Unix'),\n",
       " (0.9511001, 'Unix-like', 'FreeBSD'),\n",
       " (0.9457252, 'FreeBSD', 'Solaris (operating system)')]"
      ]
     },
     "execution_count": 19,
     "metadata": {},
     "output_type": "execute_result"
    }
   ],
   "source": [
    "ibm.edges()[:20]"
   ]
  },
  {
   "cell_type": "markdown",
   "metadata": {},
   "source": [
    "## Deconstruction\n",
    "\n",
    "So far we've talked at length about constructing graphs, but there may be times when you want to deconstruct them instead. There are two ways to do so. The simple way is by calling `remove()` on a single concept."
   ]
  },
  {
   "cell_type": "code",
   "execution_count": 20,
   "metadata": {
    "collapsed": false
   },
   "outputs": [
    {
     "data": {
      "text/plain": [
       "554"
      ]
     },
     "execution_count": 20,
     "metadata": {},
     "output_type": "execute_result"
    }
   ],
   "source": [
    "microsoft.add('Microsoft')\n",
    "microsoft.remove('Microsoft')\n",
    "len(microsoft.concepts())"
   ]
  },
  {
   "cell_type": "markdown",
   "metadata": {},
   "source": [
    "The more complex but \"funner\" way is to call `abridge()`, which is an exact inverse operation to `augment()` (with the same parameters). Remember how we defined the microsoft model? The following result shouldn't come as a surprise!"
   ]
  },
  {
   "cell_type": "code",
   "execution_count": 21,
   "metadata": {
    "collapsed": false
   },
   "outputs": [
    {
     "data": {
      "text/plain": [
       "0"
      ]
     },
     "execution_count": 21,
     "metadata": {},
     "output_type": "execute_result"
    }
   ],
   "source": [
    "microsoft.abridge('Microsoft', limit=2000, level=1)\n",
    "len(microsoft.concepts())"
   ]
  },
  {
   "cell_type": "markdown",
   "metadata": {},
   "source": [
    "## Concept titles\n",
    "\n",
    "Remember that any input we send to `watsongraph` should correspond *exactly* with the title of a Wikipedia article. Doing otherwise won't cause the command to fail, technically, but it will result in different output and cause problems down the road.\n",
    "\n",
    "For example notice the difference between the following two constructions. Here `Bayes' theorem` is the proper name of a [Wikipedia article](https://en.wikipedia.org/wiki/Bayes'_theorem), while `Bayes' law`, a commonly-used synonym, is merely a [redirect](https://en.wikipedia.org/w/index.php?title=Bayes%27_Law&redirect=no) to the same."
   ]
  },
  {
   "cell_type": "code",
   "execution_count": 22,
   "metadata": {
    "collapsed": false
   },
   "outputs": [
    {
     "data": {
      "text/plain": [
       "38"
      ]
     },
     "execution_count": 22,
     "metadata": {},
     "output_type": "execute_result"
    }
   ],
   "source": [
    "one_bayes = ConceptModel([\"Bayes' law\"])\n",
    "one_bayes.explode()\n",
    "len(one_bayes.concepts())"
   ]
  },
  {
   "cell_type": "code",
   "execution_count": 23,
   "metadata": {
    "collapsed": false
   },
   "outputs": [
    {
     "data": {
      "text/plain": [
       "26"
      ]
     },
     "execution_count": 23,
     "metadata": {},
     "output_type": "execute_result"
    }
   ],
   "source": [
    "another_bayes = ConceptModel([\"Bayes' theorem\"])\n",
    "another_bayes.explode()\n",
    "len(another_bayes.concepts())"
   ]
  },
  {
   "cell_type": "markdown",
   "metadata": {},
   "source": [
    "We got different output! If you inspect the resultant models you'll also discover that the former is a far closer match than the latter (Watson processes redirects directly, resulting in somewhat arbitrary output).\n",
    "\n",
    "You can ensure that you don't have this problem in one of two ways:\n",
    "* By always making sure yourself that any input you use corresponds exactly with the title of a Wikipedia article (obviously).\n",
    "* Or by using the `watsongraph`-provided correction method, the static `conceptualize` method."
   ]
  },
  {
   "cell_type": "code",
   "execution_count": 24,
   "metadata": {
    "collapsed": false
   },
   "outputs": [
    {
     "data": {
      "text/plain": [
       "[\"Bayes' theorem\",\n",
       " \"Bayes' theorem\",\n",
       " 'Thomas Bayes',\n",
       " 'Metropolitan Opera',\n",
       " 'Watson (computer)',\n",
       " 'Smithsonian Institution']"
      ]
     },
     "execution_count": 24,
     "metadata": {},
     "output_type": "execute_result"
    }
   ],
   "source": [
    "from watsongraph.node import conceptualize\n",
    "[conceptualize(\"Bayes' theorem\"),\n",
    " conceptualize(\"Bayes' law\"),\n",
    " conceptualize(\"Bayes\"),\n",
    " conceptualize(\"Met\"),\n",
    " conceptualize(\"IBM Watson\"),\n",
    " conceptualize(\"Smithsonian Museum\")]"
   ]
  },
  {
   "cell_type": "markdown",
   "metadata": {},
   "source": [
    "## Serialization\n",
    "\n",
    "`watsongraph` provides default bindings for saving to and loading from `JSON`. These are in the form of the alternating `to_json()` and `load_from_json(data_repr)` object methods, and are useful for saving and loading your models, if so desired."
   ]
  },
  {
   "cell_type": "code",
   "execution_count": 25,
   "metadata": {
    "collapsed": false
   },
   "outputs": [
    {
     "data": {
      "text/plain": [
       "{'directed': False,\n",
       " 'graph': {'name': 'compose( ,  )'},\n",
       " 'links': [{'source': 0, 'target': 11, 'weight': 0.57220286},\n",
       "  {'source': 32, 'target': 11, 'weight': 0.6176665},\n",
       "  {'source': 27, 'target': 11, 'weight': 0.5745319},\n",
       "  {'source': 26, 'target': 11, 'weight': 0.7338766},\n",
       "  {'source': 30, 'target': 11, 'weight': 0.7300315},\n",
       "  {'source': 1, 'target': 11, 'weight': 0.60758543},\n",
       "  {'source': 28, 'target': 11, 'weight': 0.79717726},\n",
       "  {'source': 11, 'target': 2, 'weight': 0.5351206},\n",
       "  {'source': 11, 'target': 12, 'weight': 0.56133187},\n",
       "  {'source': 11, 'target': 13, 'weight': 0.6436416},\n",
       "  {'source': 11, 'target': 7, 'weight': 0.8081631},\n",
       "  {'source': 11, 'target': 3, 'weight': 0.89564085},\n",
       "  {'source': 11, 'target': 4, 'weight': 0.5565874},\n",
       "  {'source': 11, 'target': 14, 'weight': 0.5598469},\n",
       "  {'source': 11, 'target': 29, 'weight': 0.80571836},\n",
       "  {'source': 11, 'target': 5, 'weight': 0.79349726},\n",
       "  {'source': 11, 'target': 20, 'weight': 0.62924486},\n",
       "  {'source': 11, 'target': 15, 'weight': 0.60449404},\n",
       "  {'source': 11, 'target': 19, 'weight': 0.803906},\n",
       "  {'source': 11, 'target': 31, 'weight': 0.6541496},\n",
       "  {'source': 11, 'target': 6, 'weight': 0.5241717},\n",
       "  {'source': 11, 'target': 21, 'weight': 0.7431917},\n",
       "  {'source': 11, 'target': 33, 'weight': 0.780642},\n",
       "  {'source': 11, 'target': 16, 'weight': 0.50487167},\n",
       "  {'source': 11, 'target': 22, 'weight': 0.59871125},\n",
       "  {'source': 11, 'target': 17, 'weight': 0.6814177},\n",
       "  {'source': 11, 'target': 18, 'weight': 0.6878544},\n",
       "  {'source': 11, 'target': 23, 'weight': 0.6270959},\n",
       "  {'source': 11, 'target': 24, 'weight': 0.7744718},\n",
       "  {'source': 11, 'target': 8, 'weight': 0.79933375},\n",
       "  {'source': 11, 'target': 34, 'weight': 0.58770674},\n",
       "  {'source': 11, 'target': 25, 'weight': 0.5854343},\n",
       "  {'source': 11, 'target': 9, 'weight': 0.65513045},\n",
       "  {'source': 11, 'target': 10, 'weight': 0.62568736},\n",
       "  {'source': 11, 'target': 35, 'weight': 0.5316219},\n",
       "  {'source': 11, 'target': 36, 'weight': 0.8213564}],\n",
       " 'multigraph': False,\n",
       " 'nodes': [{'id': '.NET Framework'},\n",
       "  {'id': 'X Window System'},\n",
       "  {'id': 'Linux'},\n",
       "  {'id': 'Digital Equipment Corporation'},\n",
       "  {'id': 'Object-oriented programming'},\n",
       "  {'id': 'Advanced Micro Devices'},\n",
       "  {'id': 'Programming language'},\n",
       "  {'id': 'Fortran'},\n",
       "  {'id': 'Supercomputer'},\n",
       "  {'id': 'Berkeley Software Distribution'},\n",
       "  {'id': 'FreeBSD'},\n",
       "  {'id': 'IBM'},\n",
       "  {'id': 'Unix-like'},\n",
       "  {'id': 'ARM architecture'},\n",
       "  {'id': 'Hard disk drive'},\n",
       "  {'id': 'Java (programming language)'},\n",
       "  {'id': 'Graphical user interface'},\n",
       "  {'id': 'Cloud computing'},\n",
       "  {'id': 'Compiler'},\n",
       "  {'id': 'SQL'},\n",
       "  {'id': 'Server (computing)'},\n",
       "  {'id': 'Operating system'},\n",
       "  {'id': 'MySQL'},\n",
       "  {'id': 'Hewlett-Packard'},\n",
       "  {'id': 'Oracle Corporation'},\n",
       "  {'id': 'XML'},\n",
       "  {'id': 'Microprocessor'},\n",
       "  {'id': 'Library (computing)'},\n",
       "  {'id': 'X86-64'},\n",
       "  {'id': 'Solaris (operating system)'},\n",
       "  {'id': 'Unix'},\n",
       "  {'id': 'Intel'},\n",
       "  {'id': 'Central processing unit'},\n",
       "  {'id': 'Sun Microsystems'},\n",
       "  {'id': 'Application programming interface'},\n",
       "  {'id': 'C (programming language)'},\n",
       "  {'id': 'X86'}]}"
      ]
     },
     "execution_count": 25,
     "metadata": {},
     "output_type": "execute_result"
    }
   ],
   "source": [
    "ibm = ConceptModel(['IBM'])\n",
    "ibm.explode()\n",
    "ibm_data_repr = ibm.to_json()\n",
    "ibm_data_repr"
   ]
  },
  {
   "cell_type": "code",
   "execution_count": 26,
   "metadata": {
    "collapsed": false
   },
   "outputs": [
    {
     "data": {
      "text/plain": [
       "36"
      ]
     },
     "execution_count": 26,
     "metadata": {},
     "output_type": "execute_result"
    }
   ],
   "source": [
    "ibm_copy = ConceptModel()\n",
    "ibm_copy.load_from_json(ibm_data_repr)\n",
    "len(ibm.edges())"
   ]
  },
  {
   "cell_type": "markdown",
   "metadata": {},
   "source": [
    "That's all!\n",
    "\n",
    "For more advanced `ConceptModel` patterns see the [Advanced Concept Modeling notebook](./watsongraph - Advanced Concept Modeling.ipynb).\n",
    "\n",
    "For an even higher-level, built-in abstraction of the `ConceptModel` object see the [Recommendations notebook](./watsongraph - Recommendations.ipynb)."
   ]
  }
 ],
 "metadata": {
  "kernelspec": {
   "display_name": "Python 3",
   "language": "python",
   "name": "python3"
  },
  "language_info": {
   "codemirror_mode": {
    "name": "ipython",
    "version": 3
   },
   "file_extension": ".py",
   "mimetype": "text/x-python",
   "name": "python",
   "nbconvert_exporter": "python",
   "pygments_lexer": "ipython3",
   "version": "3.5.1"
  }
 },
 "nbformat": 4,
 "nbformat_minor": 0
}
